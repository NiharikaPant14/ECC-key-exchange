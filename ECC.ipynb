{
  "cells": [
    {
      "cell_type": "code",
      "execution_count": null,
      "metadata": {
        "id": "KclHk6k5XyrI"
      },
      "outputs": [],
      "source": [
        "import random\n",
        "import numpy as np\n",
        "import matplotlib.pyplot as plt\n",
        "import time\n",
        "from hashlib import sha256"
      ]
    },
    {
      "cell_type": "markdown",
      "metadata": {
        "id": "5obfidbAX5ZT"
      },
      "source": [
        "defining curves"
      ]
    },
    {
      "cell_type": "code",
      "execution_count": null,
      "metadata": {
        "id": "XSrjpx4-X60G"
      },
      "outputs": [],
      "source": [
        "# SECP256R1 (NIST P-256)\n",
        "secp256r1 = {\n",
        "    'p': 0xFFFFFFFF000000010000000000000000FFFFFFFFFFFFFFFFFFFFFFFF,\n",
        "    'a': 0xFFFFFFFF000000010000000000000000FFFFFFFFFFFFFFFFFFFFFFFC,\n",
        "    'b': 0x5AC635D8AA3A93E7B3EBBD55769886BC651D06B0CC53B0F63BCE3C3E27D2604B,\n",
        "    'Gx': 0x6B17D1F2E12C4247F8BCE6E563A440F277037D812DEB33A0F4A13945D898C296,\n",
        "    'Gy': 0x4FE342E2FE1A7F9B8EE7EB4A7C0F9E162BCE33576B315ECECBB6406837BF51F5,\n",
        "    'n': 0xFFFFFFFF00000000FFFFFFFFFFFFFFFFBCE6FAADA7179E84F3B9CAC2FC632551\n",
        "}\n",
        "\n",
        "# Curve25519 (X25519)\n",
        "curve25519 = {\n",
        "    'p': 2**255 - 19,\n",
        "    'a': 486662,\n",
        "    'Gx': 9,\n",
        "    'n': 2**252 + 0x14DEF9DEA2F79CD65812631A5CF5D3ED\n",
        "}\n",
        "\n",
        "# BrainpoolP256r1\n",
        "brainpoolp256r1 = {\n",
        "    'p': 0xA9FB57DBA1EEA9BC3E660A909D838D726E3BF623D52620282013481D1F6E5377,\n",
        "    'a': 0x7D5A0975FC2C3057EEF67530417AFFE7FB8055C126DC5C6CE94A4B44F330B5D9,\n",
        "    'b': 0x26DC5C6CE94A4B44F330B5D9BBD77CBF958416295CF7E1CE6BCCDC18FF8C07B6,\n",
        "    'Gx': 0x8BD2AEB9CB7E57CB2C4B482FFC81B7AFB9DE27E1E3BD23C23A4453BD9ACE3262,\n",
        "    'Gy': 0x547EF835C3DAC4FD97F8461A14611DC9C27745132DED8E545C1D54C72F046997,\n",
        "    'n': 0xA9FB57DBA1EEA9BC3E660A909D838D718C397AA3B561A6F7901E0E82974856A7\n",
        "}\n"
      ]
    },
    {
      "cell_type": "markdown",
      "metadata": {
        "id": "aiaQrxnmYFFQ"
      },
      "source": [
        "Mathematical helper functions"
      ]
    },
    {
      "cell_type": "code",
      "execution_count": null,
      "metadata": {
        "id": "joJ_VBAsYH1h"
      },
      "outputs": [],
      "source": [
        "def mod_inv(a, p):\n",
        "    \"\"\"Find modular inverse using Fermat's Little Theorem\"\"\"\n",
        "    return pow(a, p-2, p)\n",
        "\n",
        "def is_on_curve(x, y, curve):\n",
        "    \"\"\"Check if a point is on the curve\"\"\"\n",
        "    if curve == curve25519:\n",
        "        return (y**2) % curve['p'] == (x**3 + curve['a']*x**2 + x) % curve['p']\n",
        "    else:\n",
        "        return (y**2 - x**3 - curve['a']*x - curve['b']) % curve['p'] == 0"
      ]
    },
    {
      "cell_type": "markdown",
      "metadata": {
        "id": "bDvl3dNeYQRe"
      },
      "source": [
        "point addition for weirstrass curve"
      ]
    },
    {
      "cell_type": "code",
      "execution_count": null,
      "metadata": {
        "id": "yU7WG6wyYS5Z"
      },
      "outputs": [],
      "source": [
        "def point_add(P, Q, curve):\n",
        "    if P is None: return Q\n",
        "    if Q is None: return P\n",
        "\n",
        "    x1, y1 = P\n",
        "    x2, y2 = Q\n",
        "\n",
        "    if x1 == x2:\n",
        "        if y1 != y2: return None  # Point at infinity\n",
        "        # Explicit negative handling for 'a'\n",
        "        m_numerator = 3*x1*x1 + curve['a']\n",
        "    else:\n",
        "        m_numerator = y2 - y1\n",
        "\n",
        "    m_denominator = x2 - x1 if x1 != x2 else 2*y1\n",
        "    m = (m_numerator * mod_inv(m_denominator, curve['p'])) % curve['p']\n",
        "\n",
        "    x3 = (m*m - x1 - x2) % curve['p']\n",
        "    y3 = (m*(x1 - x3) - y1) % curve['p']\n",
        "\n",
        "    return (x3, y3)"
      ]
    },
    {
      "cell_type": "markdown",
      "metadata": {
        "id": "s7l9NhJdYYzJ"
      },
      "source": [
        "scalar multiplication for weirstrass curve"
      ]
    },
    {
      "cell_type": "code",
      "execution_count": null,
      "metadata": {
        "id": "gkkAgccdYgPo"
      },
      "outputs": [],
      "source": [
        "def scalar_mult(k, point, curve):\n",
        "    \"\"\"Multiply point by scalar k using double-and-add\"\"\"\n",
        "    result = None\n",
        "    current = point\n",
        "\n",
        "    while k > 0:\n",
        "        if k % 2 == 1:\n",
        "            result = point_add(result, current, curve)\n",
        "        current = point_add(current, current, curve)\n",
        "        k = k // 2\n",
        "\n",
        "    return result"
      ]
    },
    {
      "cell_type": "markdown",
      "metadata": {
        "id": "8zeMCCUsZI1o"
      },
      "source": [
        "for Montegomery Curves"
      ]
    },
    {
      "cell_type": "code",
      "execution_count": null,
      "metadata": {
        "id": "8dc4oSUiZLYg"
      },
      "outputs": [],
      "source": [
        "def x25519_scalar_mult(k, u):\n",
        "    \"\"\"Montgomery ladder for Curve25519\"\"\"\n",
        "    p = curve25519['p']\n",
        "    a24 = 121665  # (a + 2)/4\n",
        "\n",
        "    x1 = u\n",
        "    x2 = 1\n",
        "    z2 = 0\n",
        "    x3 = u\n",
        "    z3 = 1\n",
        "\n",
        "    for t in reversed(range(255)):\n",
        "        kt = (k >> t) & 1\n",
        "        x2, x3 = (x3, x2) if kt else (x2, x3)\n",
        "        z2, z3 = (z3, z2) if kt else (z2, z3)\n",
        "\n",
        "        A = (x2 + z2) % p\n",
        "        AA = (A * A) % p\n",
        "        B = (x2 - z2) % p\n",
        "        BB = (B * B) % p\n",
        "        E = (AA - BB) % p\n",
        "        C = (x3 + z3) % p\n",
        "        D = (x3 - z3) % p\n",
        "        DA = (D * A) % p\n",
        "        CB = (C * B) % p\n",
        "        x3 = ((DA + CB) ** 2) % p\n",
        "        z3 = (x1 * (DA - CB) ** 2) % p\n",
        "        x2 = (AA * BB) % p\n",
        "        z2 = (E * (AA + a24 * E)) % p\n",
        "\n",
        "        x2, x3 = (x3, x2) if kt else (x2, x3)\n",
        "        z2, z3 = (z3, z2) if kt else (z2, z3)\n",
        "\n",
        "    return (x2 * pow(z2, p-2, p)) % p"
      ]
    },
    {
      "cell_type": "markdown",
      "metadata": {
        "id": "48W4E9DRZm09"
      },
      "source": [
        "key generation"
      ]
    },
    {
      "cell_type": "code",
      "execution_count": null,
      "metadata": {
        "id": "mtQLTXzQZoQk"
      },
      "outputs": [],
      "source": [
        "def generate_keypair(curve_type):\n",
        "    \"\"\"Generate private/public key pair for selected curve\"\"\"\n",
        "    if curve_type == 'secp256r1':\n",
        "        curve = secp256r1\n",
        "        priv = random.randint(1, curve['n']-1)\n",
        "        pub = scalar_mult(priv, (curve['Gx'], curve['Gy']), curve)\n",
        "    elif curve_type == 'brainpoolp256r1':\n",
        "        curve = brainpoolp256r1\n",
        "        priv = random.randint(1, curve['n']-1)\n",
        "        pub = scalar_mult(priv, (curve['Gx'], curve['Gy']), curve)\n",
        "    elif curve_type == 'curve25519':\n",
        "        curve = curve25519\n",
        "        priv = random.getrandbits(256) % curve['n']\n",
        "        pub = x25519_scalar_mult(priv, curve['Gx'])\n",
        "    else:\n",
        "        raise ValueError(\"Unknown curve type\")\n",
        "\n",
        "    return priv, pub"
      ]
    },
    {
      "cell_type": "markdown",
      "metadata": {
        "id": "Hgd3v8F5ZsE1"
      },
      "source": [
        "ecdh implementation"
      ]
    },
    {
      "cell_type": "code",
      "execution_count": null,
      "metadata": {
        "id": "SZNSxXEKZtsj"
      },
      "outputs": [],
      "source": [
        "def ecdh(priv_key, peer_pub, curve_type):\n",
        "    \"\"\"Compute shared secret using peer's public key\"\"\"\n",
        "    if curve_type in ['secp256r1', 'brainpoolp256r1']:\n",
        "        curve = secp256r1 if curve_type == 'secp256r1' else brainpoolp256r1\n",
        "        shared_point = scalar_mult(priv_key, peer_pub, curve)\n",
        "        return shared_point[0]  # Use x-coordinate\n",
        "    elif curve_type == 'curve25519':\n",
        "        return x25519_scalar_mult(priv_key, peer_pub)\n",
        "    else:\n",
        "        raise ValueError(\"Unsupported curve type\")"
      ]
    },
    {
      "cell_type": "markdown",
      "metadata": {
        "id": "snpzv6tBa97f"
      },
      "source": [
        "Demo"
      ]
    },
    {
      "cell_type": "code",
      "execution_count": null,
      "metadata": {
        "id": "9FY1wsIba--2"
      },
      "outputs": [],
      "source": [
        "def derive_key(shared_secret):\n",
        "    \"\"\"Create symmetric key from shared secret\"\"\"\n",
        "    return sha256(str(shared_secret).encode()).digest()\n",
        "\n",
        "def simple_encrypt(message, key):\n",
        "    \"\"\"XOR-based encryption for demonstration\"\"\"\n",
        "    return bytes([message[i] ^ key[i % len(key)] for i in range(len(message))])\n",
        "\n",
        "def run_interactive_demo():\n",
        "    print(\"🛡️ ECDH Encryption Demo\")\n",
        "\n",
        "    # Curve selection\n",
        "    print(\"\\nChoose your curve:\")\n",
        "    print(\"1. secp256r1 (NIST P-256)\")\n",
        "    print(\"2. Curve25519 (X25519)\")\n",
        "    print(\"3. BrainpoolP256r1\")\n",
        "    choice = input(\"Enter choice (1/2/3): \").strip()\n",
        "\n",
        "    curve_type = {\n",
        "        '1': 'secp256r1',\n",
        "        '2': 'curve25519',\n",
        "        '3': 'brainpoolp256r1'\n",
        "    }.get(choice, 'secp256r1')\n",
        "\n",
        "    # Key setup\n",
        "    print(f\"\\n🔑 {curve_type} Key Setup\")\n",
        "    your_priv = int(input(\"Enter YOUR private key (hex): \"), 16)\n",
        "    their_priv = int(input(\"Enter THEIR private key (hex): \"), 16)\n",
        "\n",
        "    # Generate public keys\n",
        "    if curve_type == 'curve25519':\n",
        "        your_pub = x25519_scalar_mult(your_priv, curve25519['Gx'])\n",
        "        their_pub = x25519_scalar_mult(their_priv, curve25519['Gx'])\n",
        "    else:\n",
        "        curve = secp256r1 if curve_type == 'secp256r1' else brainpoolp256r1\n",
        "        your_pub = scalar_mult(your_priv, (curve['Gx'], curve['Gy']), curve)\n",
        "        their_pub = scalar_mult(their_priv, (curve['Gx'], curve['Gy']), curve)\n",
        "\n",
        "    # Calculate shared secret\n",
        "    shared_secret = ecdh(your_priv, their_pub, curve_type)\n",
        "    print(f\"\\n🔒 Shared secret: {hex(shared_secret)}\")\n",
        "\n",
        "    # Message encryption\n",
        "    message = input(\"\\n✉️ Enter message to encrypt: \").encode()\n",
        "    key = derive_key(shared_secret)\n",
        "    ciphertext = simple_encrypt(message, key)\n",
        "    print(f\"🔐 Encrypted: {ciphertext.hex()}\")\n",
        "\n",
        "    # Message decryption\n",
        "    decrypted = simple_encrypt(ciphertext, key).decode()\n",
        "    print(f\"\\n🔓 Decrypted message: {decrypted}\")"
      ]
    },
    {
      "cell_type": "markdown",
      "metadata": {
        "id": "1NaIKTdvbRky"
      },
      "source": [
        "scalar blinding"
      ]
    },
    {
      "cell_type": "code",
      "execution_count": null,
      "metadata": {
        "id": "BZPCUsKlboWx"
      },
      "outputs": [],
      "source": [
        "# Scalar Blinding Add-on\n",
        "def apply_scalar_blinding(k, curve_type):\n",
        "    \"\"\"Optional scalar blinding protection\"\"\"\n",
        "    if curve_type == 'secp256r1':\n",
        "        n = secp256r1['n']\n",
        "    elif curve_type == 'curve25519':\n",
        "        n = curve25519['n']\n",
        "    elif curve_type == 'brainpoolp256r1':\n",
        "        n = brainpoolp256r1['n']\n",
        "    else:\n",
        "        raise ValueError(\"Unknown curve type\")\n",
        "\n",
        "    r = random.randint(1, n-1)\n",
        "    return (k + r * n) % n"
      ]
    },
    {
      "cell_type": "code",
      "execution_count": null,
      "metadata": {
        "id": "N-sdPlOReHcp"
      },
      "outputs": [],
      "source": [
        "# Modified Key Generation with Blinding Option\n",
        "def generate_keypair(curve_type, use_blinding=False):\n",
        "    \"\"\"Generate keys with optional blinding\"\"\"\n",
        "    if curve_type == 'secp256r1':\n",
        "        curve = secp256r1\n",
        "        priv = random.randint(1, curve['n']-1)\n",
        "        if use_blinding:\n",
        "            priv = apply_scalar_blinding(priv, curve_type)\n",
        "        pub = scalar_mult(priv, (curve['Gx'], curve['Gy']), curve)\n",
        "    elif curve_type == 'brainpoolp256r1':\n",
        "        curve = brainpoolp256r1\n",
        "        priv = random.randint(1, curve['n']-1)\n",
        "        if use_blinding:\n",
        "            priv = apply_scalar_blinding(priv, curve_type)\n",
        "        pub = scalar_mult(priv, (curve['Gx'], curve['Gy']), curve)\n",
        "    elif curve_type == 'curve25519':\n",
        "        curve = curve25519\n",
        "        priv = random.getrandbits(256) % curve['n']\n",
        "        if use_blinding:\n",
        "            priv = apply_scalar_blinding(priv, curve_type)\n",
        "        pub = x25519_scalar_mult(priv, curve['Gx'])\n",
        "    else:\n",
        "        raise ValueError(\"Unknown curve type\")\n",
        "    return priv, pub"
      ]
    },
    {
      "cell_type": "code",
      "execution_count": null,
      "metadata": {
        "id": "9YcWpxsMeTKg"
      },
      "outputs": [],
      "source": [
        "# Enhanced ECDH with Blinding Toggle\n",
        "def ecdh(priv_key, peer_pub, curve_type, use_blinding=False):\n",
        "    \"\"\"Compute shared secret with optional blinding\"\"\"\n",
        "    if use_blinding:\n",
        "        priv_key = apply_scalar_blinding(priv_key, curve_type)\n",
        "\n",
        "    if curve_type in ['secp256r1', 'brainpoolp256r1']:\n",
        "        curve = secp256r1 if curve_type == 'secp256r1' else brainpoolp256r1\n",
        "        shared_point = scalar_mult(priv_key, peer_pub, curve)\n",
        "        return shared_point[0]  # x-coordinate\n",
        "    elif curve_type == 'curve25519':\n",
        "        return x25519_scalar_mult(priv_key, peer_pub)\n",
        "    else:\n",
        "        raise ValueError(\"Unsupported curve type\")"
      ]
    },
    {
      "cell_type": "code",
      "execution_count": null,
      "metadata": {
        "id": "wekjScS4eZ1U"
      },
      "outputs": [],
      "source": [
        "# Cell 12: Enhanced Interactive Demo with Full Flow\n",
        "def derive_key(shared_secret):\n",
        "    \"\"\"Create 256-bit key from shared secret\"\"\"\n",
        "    return sha256(str(shared_secret).encode()).digest()\n",
        "\n",
        "def simple_encrypt(message, key):\n",
        "    \"\"\"XOR encryption for demonstration (not secure!)\"\"\"\n",
        "    return bytes([message[i] ^ key[i % len(key)] for i in range(len(message))])\n",
        "\n",
        "def run_full_demo():\n",
        "    print(\"🔐 Full ECDH Encryption Demo\")\n",
        "\n",
        "    # Curve selection\n",
        "    print(\"\\nChoose curve:\")\n",
        "    print(\"1. secp256r1 (NIST P-256)\")\n",
        "    print(\"2. Curve25519 (X25519)\")\n",
        "    print(\"3. BrainpoolP256r1\")\n",
        "    curve_choice = input(\"Enter choice (1/2/3): \").strip()\n",
        "    curve_type = {'1': 'secp256r1', '2': 'curve25519', '3': 'brainpoolp256r1'}.get(curve_choice, 'secp256r1')\n",
        "\n",
        "    # Blinding choice\n",
        "    use_blinding = 'y'\n",
        "\n",
        "    # Key setup\n",
        "    print(f\"\\n🔑 {curve_type} Key Setup\")\n",
        "    if input(\"Generate random keys? (y/n): \").lower() == 'y':\n",
        "        alice_priv, alice_pub = generate_keypair(curve_type, use_blinding)\n",
        "        bob_priv, bob_pub = generate_keypair(curve_type, use_blinding)\n",
        "    else:\n",
        "        alice_priv = int(input(\"Enter Alice's private key (hex): \"), 16)\n",
        "        bob_priv = int(input(\"Enter Bob's private key (hex): \"), 16)\n",
        "\n",
        "        # Generate public keys from provided private keys\n",
        "        if curve_type == 'curve25519':\n",
        "            alice_pub = x25519_scalar_mult(alice_priv, curve25519['Gx'])\n",
        "            bob_pub = x25519_scalar_mult(bob_priv, curve25519['Gx'])\n",
        "        else:\n",
        "            curve = secp256r1 if curve_type == 'secp256r1' else brainpoolp256r1\n",
        "            alice_pub = scalar_mult(alice_priv, (curve['Gx'], curve['Gy']), curve)\n",
        "            bob_pub = scalar_mult(bob_priv, (curve['Gx'], curve['Gy']), curve)\n",
        "\n",
        "    # Compute shared secrets\n",
        "    alice_shared = ecdh(alice_priv, bob_pub, curve_type, use_blinding)\n",
        "    bob_shared = ecdh(bob_priv, alice_pub, curve_type, use_blinding)\n",
        "\n",
        "    print(f\"\\n🔒 Alice's shared secret: {hex(alice_shared)}\")\n",
        "    print(f\"🔒 Bob's shared secret:   {hex(bob_shared)}\")\n",
        "\n",
        "    if alice_shared != bob_shared:\n",
        "        print(\"❌ Error: Secrets don't match!\")\n",
        "        return\n",
        "\n",
        "    # Message handling\n",
        "    message = input(\"\\n✉️ Enter secret message: \").encode()\n",
        "    key = derive_key(alice_shared)\n",
        "\n",
        "    # Encryption\n",
        "    ciphertext = simple_encrypt(message, key)\n",
        "    print(f\"\\n🔐 Encrypted message (hex): {ciphertext.hex()}\")\n",
        "\n",
        "    # Decryption\n",
        "    decrypted = simple_encrypt(ciphertext, key)\n",
        "    print(f\"🔓 Decrypted message: {decrypted.decode()}\")\n",
        "\n",
        "    # Verification\n",
        "    print(\"\\n✅ Success!\" if message == decrypted else \"❌ Decryption failed!\")"
      ]
    },
    {
      "cell_type": "markdown",
      "metadata": {
        "id": "6B38MWNYgiqA"
      },
      "source": [
        "performance dashboard"
      ]
    },
    {
      "cell_type": "code",
      "execution_count": null,
      "metadata": {
        "id": "odn27-1RgkQP"
      },
      "outputs": [],
      "source": [
        "def benchmark_curve_operations(curve_type, use_blinding):\n",
        "    \"\"\"Time key generation, encryption, and decryption\"\"\"\n",
        "    # Key generation\n",
        "    start = time.time()\n",
        "    priv, pub = generate_keypair(curve_type, use_blinding)\n",
        "    keygen_time = time.time() - start\n",
        "\n",
        "    # Generate peer keys\n",
        "    peer_priv, peer_pub = generate_keypair(curve_type, use_blinding)\n",
        "\n",
        "    # ECDH shared secret\n",
        "    start = time.time()\n",
        "    shared = ecdh(priv, peer_pub, curve_type, use_blinding)\n",
        "    key = sha256(str(shared).encode()).digest()\n",
        "\n",
        "    # Encryption\n",
        "    message = b\"Secret message for benchmarking\"\n",
        "    start = time.time()\n",
        "    cipher = bytes([message[i] ^ key[i%32] for i in range(len(message))])\n",
        "    encrypt_time = time.time() - start\n",
        "\n",
        "    # Decryption\n",
        "    start = time.time()\n",
        "    plain = bytes([cipher[i] ^ key[i%32] for i in range(len(cipher))])\n",
        "    decrypt_time = time.time() - start\n",
        "\n",
        "    return (keygen_time, encrypt_time, decrypt_time)\n",
        "\n",
        "# Cell 3: Run Benchmarks\n",
        "curves = ['secp256r1', 'curve25519', 'brainpoolp256r1']\n",
        "results = {\n",
        "    'with_blinding': {curve: benchmark_curve_operations(curve, True) for curve in curves},\n",
        "    'without_blinding': {curve: benchmark_curve_operations(curve, False) for curve in curves}\n",
        "}"
      ]
    },
    {
      "cell_type": "code",
      "execution_count": null,
      "metadata": {
        "id": "riVFtJfthGFX"
      },
      "outputs": [],
      "source": [
        "def plot_metric(metric_idx, metric_name):\n",
        "    x = np.arange(len(curves))\n",
        "    width = 0.35\n",
        "\n",
        "    with_blinding = [results['with_blinding'][curve][metric_idx] for curve in curves]\n",
        "    without_blinding = [results['without_blinding'][curve][metric_idx] for curve in curves]\n",
        "\n",
        "    fig, ax = plt.subplots(figsize=(8, 5))\n",
        "    rects1 = ax.bar(x - width/2, without_blinding, width, label='Without Blinding', color='skyblue')\n",
        "    rects2 = ax.bar(x + width/2, with_blinding, width, label='With Blinding', color='orange', hatch='//')\n",
        "\n",
        "    ax.set_ylabel('Time (seconds)')\n",
        "    ax.set_title(f'{metric_name} Time by Curve and Blinding')\n",
        "    ax.set_xticks(x)\n",
        "    ax.set_xticklabels(curves)\n",
        "    ax.legend()\n",
        "    ax.grid(axis='y', linestyle='--', alpha=0.7)\n",
        "\n",
        "    # Annotate bars\n",
        "    for rect in rects1 + rects2:\n",
        "        height = rect.get_height()\n",
        "        ax.annotate(f'{height:.6f}',\n",
        "                    xy=(rect.get_x() + rect.get_width() / 2, height),\n",
        "                    xytext=(0, 3),  # 3 points vertical offset\n",
        "                    textcoords=\"offset points\",\n",
        "                    ha='center', va='bottom', fontsize=9)\n",
        "    plt.tight_layout()\n",
        "    plt.show()"
      ]
    },
    {
      "cell_type": "markdown",
      "metadata": {
        "id": "wBC5VwI9iYRQ"
      },
      "source": [
        "MITM Attack"
      ]
    },
    {
      "cell_type": "code",
      "execution_count": null,
      "metadata": {
        "id": "mwyqMIGjioRq"
      },
      "outputs": [],
      "source": [
        "def MITM_attack():\n",
        "      class CurveParams:\n",
        "          def __init__(self, name, p, a, b, Gx, Gy, n):\n",
        "              self.name = name\n",
        "              self.p = p\n",
        "              self.a = a\n",
        "              self.b = b\n",
        "              self.G = (Gx, Gy)\n",
        "              self.n = n\n",
        "\n",
        "      # SECP256R1 (NIST P-256) parameters\n",
        "      secp256r1 = CurveParams(\n",
        "          name=\"secp256r1\",\n",
        "          p=0xFFFFFFFF000000010000000000000000FFFFFFFFFFFFFFFFFFFFFFFF,\n",
        "          a=0xFFFFFFFF000000010000000000000000FFFFFFFFFFFFFFFFFFFFFFFC,\n",
        "          b=0x5AC635D8AA3A93E7B3EBBD55769886BC651D06B0CC53B0F63BCE3C3E27D2604B,\n",
        "          Gx=0x6B17D1F2E12C4247F8BCE6E563A440F277037D812DEB33A0F4A13945D898C296,\n",
        "          Gy=0x4FE342E2FE1A7F9B8EE7EB4A7C0F9E162BCE33576B315ECECBB6406837BF51F5,\n",
        "          n=0xFFFFFFFF00000000FFFFFFFFFFFFFFFFBCE6FAADA7179E84F3B9CAC2FC632551\n",
        "      )\n",
        "\n",
        "      def mod_inv(a, p):\n",
        "          \"\"\"Modular inverse using Extended Euclidean Algorithm\"\"\"\n",
        "          old_r, r = a % p, p\n",
        "          old_s, s = 1, 0\n",
        "          while r != 0:\n",
        "              quotient = old_r // r\n",
        "              old_r, r = r, old_r - quotient * r\n",
        "              old_s, s = s, old_s - quotient * s\n",
        "          return old_s % p\n",
        "\n",
        "      def point_add(P, Q, curve):\n",
        "          \"\"\"Weierstrass point addition with validation\"\"\"\n",
        "          if P is None: return Q\n",
        "          if Q is None: return P\n",
        "\n",
        "          x1, y1 = P\n",
        "          x2, y2 = Q\n",
        "\n",
        "          if x1 == x2:\n",
        "              if y1 != y2: return None  # Point at infinity\n",
        "              # Point doubling\n",
        "              m = (3 * pow(x1, 2, curve.p) + curve.a) * mod_inv(2 * y1, curve.p) % curve.p\n",
        "          else:\n",
        "              # Point addition\n",
        "              m = (y2 - y1) * mod_inv(x2 - x1, curve.p) % curve.p\n",
        "\n",
        "          x3 = (pow(m, 2, curve.p) - x1 - x2) % curve.p\n",
        "          y3 = (m * (x1 - x3) - y1) % curve.p\n",
        "          return (x3, y3)\n",
        "\n",
        "      def scalar_mult(k, point, curve):\n",
        "          \"\"\"Constant-time scalar multiplication using double-and-add\"\"\"\n",
        "          result = None\n",
        "          current = point\n",
        "          for bit in reversed(range(256)):  # Process all 256 bits\n",
        "              if (k >> bit) & 1:\n",
        "                  result = point_add(result, current, curve)\n",
        "              current = point_add(current, current, curve)\n",
        "          return result\n",
        "\n",
        "      # --------------------------\n",
        "      # 2. MITM Attack Implementation\n",
        "      # --------------------------\n",
        "      def mitm_attack_simulation():\n",
        "          print(\"🔥 MITM Attack Simulation (Verified)\")\n",
        "\n",
        "          # Generate legitimate keys\n",
        "          print(\"\\n🔑 Legitimate Key Generation:\")\n",
        "          alice_priv = random.getrandbits(256) % secp256r1.n\n",
        "          alice_pub = scalar_mult(alice_priv, secp256r1.G, secp256r1)\n",
        "\n",
        "          bob_priv = random.getrandbits(256) % secp256r1.n\n",
        "          bob_pub = scalar_mult(bob_priv, secp256r1.G, secp256r1)\n",
        "\n",
        "          # Mallory's setup\n",
        "          print(\"🔑 Mallory's Key Generation:\")\n",
        "          mallory_priv = random.getrandbits(256) % secp256r1.n\n",
        "          mallory_pub = scalar_mult(mallory_priv, secp256r1.G, secp256r1)\n",
        "\n",
        "          # Key substitution\n",
        "          print(\"\\n🕵️ MITM Key Replacement:\")\n",
        "          print(f\"Original Alice Pub: {hex(alice_pub[0])[:20]}...\")\n",
        "          print(f\"Original Bob Pub:   {hex(bob_pub[0])[:20]}...\")\n",
        "\n",
        "          # Mallory replaces both public keys with her own\n",
        "          alice_receives = mallory_pub  # Sent to Alice as \"Bob's key\"\n",
        "          bob_receives = mallory_pub    # Sent to Bob as \"Alice's key\"\n",
        "\n",
        "          # Compute shared secrets\n",
        "          print(\"\\n🔒 Shared Secret Calculation:\")\n",
        "          alice_shared = scalar_mult(alice_priv, alice_receives, secp256r1)[0]\n",
        "          bob_shared = scalar_mult(bob_priv, bob_receives, secp256r1)[0]\n",
        "\n",
        "          mallory_alice_shared = scalar_mult(mallory_priv, alice_pub, secp256r1)[0]\n",
        "          mallory_bob_shared = scalar_mult(mallory_priv, bob_pub, secp256r1)[0]\n",
        "\n",
        "          print(\"\\n💻 Attack Results:\")\n",
        "          print(f\"Alice's Secret:   {hex(alice_shared)[:20]}...\")\n",
        "          print(f\"Mallory's Secret: {hex(mallory_alice_shared)[:20]}...\")\n",
        "          print(f\"Bob's Secret:     {hex(bob_shared)[:20]}...\")\n",
        "          print(f\"Mallory's Secret: {hex(mallory_bob_shared)[:20]}...\")\n",
        "\n",
        "          # Verify attack success\n",
        "          assert alice_shared == mallory_alice_shared, \"MITM failed with Alice\"\n",
        "          assert bob_shared == mallory_bob_shared, \"MITM failed with Bob\"\n",
        "          print(\"\\n✅ MITM Attack Successful!\")\n",
        "\n",
        "          # Message interception demo\n",
        "          def simple_encrypt(msg, key):\n",
        "              return bytes([msg[i] ^ key[i%32] for i in range(len(msg))])\n",
        "\n",
        "          print(\"\\n📨 Message Interception Demo:\")\n",
        "          original_msg = b\"Secret: Launch codes are 12345\"\n",
        "          key = sha256(str(alice_shared).encode()).digest()\n",
        "          cipher = simple_encrypt(original_msg, key)\n",
        "\n",
        "          # Mallory decrypts\n",
        "          mallory_key = sha256(str(mallory_alice_shared).encode()).digest()\n",
        "          decrypted = simple_encrypt(cipher, mallory_key)\n",
        "\n",
        "          # Mallory modifies message\n",
        "          modified_msg = b\"Fake: Launch codes are 67890\"\n",
        "          mallory_cipher = simple_encrypt(modified_msg, sha256(str(mallory_bob_shared).encode()).digest())\n",
        "\n",
        "          # Bob decrypts\n",
        "          bob_decrypted = simple_encrypt(mallory_cipher, sha256(str(bob_shared).encode()).digest())\n",
        "\n",
        "          print(f\"Original Message:  {original_msg.decode()}\")\n",
        "          print(f\"Mallory Decrypted: {decrypted.decode()}\")\n",
        "          print(f\"Modified Message:  {modified_msg.decode()}\")\n",
        "          print(f\"Bob Received:      {bob_decrypted.decode()}\")\n",
        "\n",
        "      # Run the simulation\n",
        "      mitm_attack_simulation()"
      ]
    },
    {
      "cell_type": "code",
      "execution_count": null,
      "metadata": {
        "colab": {
          "base_uri": "https://localhost:8080/"
        },
        "id": "Jnt8ia-S5Dm6",
        "outputId": "3c503807-40b6-49c3-a20e-5dca3dd55e58"
      },
      "outputs": [
        {
          "output_type": "stream",
          "name": "stdout",
          "text": [
            "🔥 MITM Attack Simulation (Verified)\n",
            "\n",
            "🔑 Legitimate Key Generation:\n",
            "🔑 Mallory's Key Generation:\n",
            "\n",
            "🕵️ MITM Key Replacement:\n",
            "Original Alice Pub: 0x549b55092fdf53789f...\n",
            "Original Bob Pub:   0xa0ab1b66582987372e...\n",
            "\n",
            "🔒 Shared Secret Calculation:\n",
            "\n",
            "💻 Attack Results:\n",
            "Alice's Secret:   0x734bbf88ede6124a9b...\n",
            "Mallory's Secret: 0x734bbf88ede6124a9b...\n",
            "Bob's Secret:     0x298125b5c8171cae60...\n",
            "Mallory's Secret: 0x298125b5c8171cae60...\n",
            "\n",
            "✅ MITM Attack Successful!\n",
            "\n",
            "📨 Message Interception Demo:\n",
            "Original Message:  Secret: Launch codes are 12345\n",
            "Mallory Decrypted: Secret: Launch codes are 12345\n",
            "Modified Message:  Fake: Launch codes are 67890\n",
            "Bob Received:      Fake: Launch codes are 67890\n"
          ]
        }
      ],
      "source": [
        "MITM_attack()"
      ]
    },
    {
      "cell_type": "markdown",
      "metadata": {
        "id": "6pXciV2V5FdQ"
      },
      "source": [
        "#MAIN CODE"
      ]
    },
    {
      "cell_type": "code",
      "execution_count": null,
      "metadata": {
        "colab": {
          "base_uri": "https://localhost:8080/",
          "height": 1000
        },
        "id": "6Arr04rhlmwc",
        "outputId": "aa0a4877-8e71-4aa7-9f29-7016ba3fd960"
      },
      "outputs": [
        {
          "name": "stdout",
          "output_type": "stream",
          "text": [
            "\n",
            "\u001b[1;36m\n",
            " _______  _______  ______   __   __    ___   _  _______  __   __    _______  __   __  _______  __   __  _______  __    _  _______  _______\n",
            "|       ||       ||      | |  | |  |  |   | | ||       ||  | |  |  |       ||  |_|  ||       ||  | |  ||   _   ||  |  | ||       ||       |\n",
            "|    ___||       ||  _    ||  |_|  |  |   |_| ||    ___||  |_|  |  |    ___||       ||       ||  |_|  ||  |_|  ||   |_| ||    ___||    ___|\n",
            "|   |___ |       || | |   ||       |  |      _||   |___ |       |  |   |___ |       ||       ||       ||       ||       ||   | __ |   |___\n",
            "|    ___||      _|| |_|   ||       |  |     |_ |    ___||_     _|  |    ___| |     | |      _||       ||       ||  _    ||   ||  ||    ___|\n",
            "|   |___ |     |_ |       ||   _   |  |    _  ||   |___   |   |    |   |___ |   _   ||     |_ |   _   ||   _   || | |   ||   |_| ||   |___\n",
            "|_______||_______||______| |__| |__|  |___| |_||_______|  |___|    |_______||__| |__||_______||__| |__||__| |__||_|  |__||_______||_______|\n",
            "\u001b[0m\n",
            "\n",
            "\u001b[1;35m✨✨✨✨✨✨✨✨✨✨✨✨✨✨✨✨✨✨✨✨✨✨✨✨✨✨✨✨✨✨✨✨✨✨✨✨\u001b[0m\n",
            "\u001b[1;33m👋 Welcome to the ECDH Playground! 👋\u001b[0m\n",
            "\u001b[1;35m✨✨✨✨✨✨✨✨✨✨✨✨✨✨✨✨✨✨✨✨✨✨✨✨✨✨✨✨✨✨✨✨✨✨✨✨\u001b[0m\n",
            "\n",
            "\n",
            "\u001b[1;36m✨ What would you like to see today? ✨\u001b[0m\n",
            "\n",
            "  1️⃣  \u001b[1;32m🔐  ECDH Key Exchange with Scalar Blinding\u001b[0m\n",
            "  2️⃣  \u001b[1;33m🔓  ECDH Key Exchange without Scalar Blinding\u001b[0m\n",
            "  3️⃣  \u001b[1;35m📊  Performance Comparison Dashboard\u001b[0m\n",
            "  4️⃣  \u001b[1;31m🕵️  MITM Attack Simulation\u001b[0m\n",
            "  5️⃣  \u001b[1;36m🚪  Exit\u001b[0m\n",
            "\n",
            "Please enter your choice (1-5): 3\n"
          ]
        },
        {
          "output_type": "display_data",
          "data": {
            "text/plain": [
              "<Figure size 800x500 with 1 Axes>"
            ],
            "image/png": "[encoded data removed]"
          },
          "metadata": {}
        },
        {
          "output_type": "display_data",
          "data": {
            "text/plain": [
              "<Figure size 800x500 with 1 Axes>"
            ],
            "image/png": "[encoded data removed]"
          },
          "metadata": {}
        },
        {
          "output_type": "display_data",
          "data": {
            "text/plain": [
              "<Figure size 800x500 with 1 Axes>"
            ],
            "image/png": "[encoded data removed]"
          },
          "metadata": {}
        },
        {
          "output_type": "stream",
          "name": "stdout",
          "text": [
            "\u001b[1;36m🔽 Press Enter to continue...\u001b[0m\n",
            "\n",
            "\u001b[1;36m\n",
            " _______  _______  ______   __   __    ___   _  _______  __   __    _______  __   __  _______  __   __  _______  __    _  _______  _______\n",
            "|       ||       ||      | |  | |  |  |   | | ||       ||  | |  |  |       ||  |_|  ||       ||  | |  ||   _   ||  |  | ||       ||       |\n",
            "|    ___||       ||  _    ||  |_|  |  |   |_| ||    ___||  |_|  |  |    ___||       ||       ||  |_|  ||  |_|  ||   |_| ||    ___||    ___|\n",
            "|   |___ |       || | |   ||       |  |      _||   |___ |       |  |   |___ |       ||       ||       ||       ||       ||   | __ |   |___\n",
            "|    ___||      _|| |_|   ||       |  |     |_ |    ___||_     _|  |    ___| |     | |      _||       ||       ||  _    ||   ||  ||    ___|\n",
            "|   |___ |     |_ |       ||   _   |  |    _  ||   |___   |   |    |   |___ |   _   ||     |_ |   _   ||   _   || | |   ||   |_| ||   |___\n",
            "|_______||_______||______| |__| |__|  |___| |_||_______|  |___|    |_______||__| |__||_______||__| |__||__| |__||_|  |__||_______||_______|\n",
            "\u001b[0m\n",
            "\n",
            "\u001b[1;35m✨✨✨✨✨✨✨✨✨✨✨✨✨✨✨✨✨✨✨✨✨✨✨✨✨✨✨✨✨✨✨✨✨✨✨✨\u001b[0m\n",
            "\u001b[1;33m👋 Welcome to the ECDH Playground! 👋\u001b[0m\n",
            "\u001b[1;35m✨✨✨✨✨✨✨✨✨✨✨✨✨✨✨✨✨✨✨✨✨✨✨✨✨✨✨✨✨✨✨✨✨✨✨✨\u001b[0m\n",
            "\n",
            "\n",
            "\u001b[1;36m✨ What would you like to see today? ✨\u001b[0m\n",
            "\n",
            "  1️⃣  \u001b[1;32m🔐  ECDH Key Exchange with Scalar Blinding\u001b[0m\n",
            "  2️⃣  \u001b[1;33m🔓  ECDH Key Exchange without Scalar Blinding\u001b[0m\n",
            "  3️⃣  \u001b[1;35m📊  Performance Comparison Dashboard\u001b[0m\n",
            "  4️⃣  \u001b[1;31m🕵️  MITM Attack Simulation\u001b[0m\n",
            "  5️⃣  \u001b[1;36m🚪  Exit\u001b[0m\n",
            "\n",
            "Please enter your choice (1-5): 5\n",
            "\n",
            "\u001b[1;36m🌈 Thanks for exploring ECDH! 👋 Goodbye!\u001b[0m\n",
            "\n",
            "\n",
            "\u001b[1;36m───────────────────────────────────────────────\u001b[0m\n",
            "       by Niharika and Sneha 💖\n",
            "\u001b[1;36m───────────────────────────────────────────────\u001b[0m\n",
            "\n"
          ]
        }
      ],
      "source": [
        "import time\n",
        "\n",
        "# Color Codes for terminals that support ANSI (Colab will ignore colors)\n",
        "CYAN = \"\\033[1;36m\"\n",
        "PINK = \"\\033[1;35m\"\n",
        "GREEN = \"\\033[1;32m\"\n",
        "YELLOW = \"\\033[1;33m\"\n",
        "RED = \"\\033[1;31m\"\n",
        "RESET = \"\\033[0m\"\n",
        "\n",
        "ECDH_ASCII = f\"\"\"\n",
        "{CYAN}\n",
        " _______  _______  ______   __   __    ___   _  _______  __   __    _______  __   __  _______  __   __  _______  __    _  _______  _______\n",
        "|       ||       ||      | |  | |  |  |   | | ||       ||  | |  |  |       ||  |_|  ||       ||  | |  ||   _   ||  |  | ||       ||       |\n",
        "|    ___||       ||  _    ||  |_|  |  |   |_| ||    ___||  |_|  |  |    ___||       ||       ||  |_|  ||  |_|  ||   |_| ||    ___||    ___|\n",
        "|   |___ |       || | |   ||       |  |      _||   |___ |       |  |   |___ |       ||       ||       ||       ||       ||   | __ |   |___\n",
        "|    ___||      _|| |_|   ||       |  |     |_ |    ___||_     _|  |    ___| |     | |      _||       ||       ||  _    ||   ||  ||    ___|\n",
        "|   |___ |     |_ |       ||   _   |  |    _  ||   |___   |   |    |   |___ |   _   ||     |_ |   _   ||   _   || | |   ||   |_| ||   |___\n",
        "|_______||_______||______| |__| |__|  |___| |_||_______|  |___|    |_______||__| |__||_______||__| |__||__| |__||_|  |__||_______||_______|\n",
        "{RESET}\n",
        "\"\"\"\n",
        "\n",
        "WELCOME = f\"{PINK}✨✨✨✨✨✨✨✨✨✨✨✨✨✨✨✨✨✨✨✨✨✨✨✨✨✨✨✨✨✨✨✨✨✨✨✨{RESET}\\n\" \\\n",
        "          f\"{YELLOW}👋 Welcome to the ECDH Playground! 👋{RESET}\\n\" \\\n",
        "          f\"{PINK}✨✨✨✨✨✨✨✨✨✨✨✨✨✨✨✨✨✨✨✨✨✨✨✨✨✨✨✨✨✨✨✨✨✨✨✨{RESET}\\n\"\n",
        "\n",
        "FOOTER = f\"\\n{CYAN}───────────────────────────────────────────────{RESET}\\n\" \\\n",
        "         \"       by Niharika and Sneha 💖\\n\" \\\n",
        "         f\"{CYAN}───────────────────────────────────────────────{RESET}\\n\"\n",
        "\n",
        "MENU = f\"\"\"\n",
        "{CYAN}✨ What would you like to see today? ✨{RESET}\n",
        "\n",
        "  1️⃣  {GREEN}🔐  ECDH Key Exchange with Scalar Blinding{RESET}\n",
        "  2️⃣  {YELLOW}🔓  ECDH Key Exchange without Scalar Blinding{RESET}\n",
        "  3️⃣  {PINK}📊  Performance Comparison Dashboard{RESET}\n",
        "  4️⃣  {RED}🕵️  MITM Attack Simulation{RESET}\n",
        "  5️⃣  {CYAN}🚪  Exit{RESET}\n",
        "\"\"\"\n",
        "\n",
        "def run_ecdh_with_blinding():\n",
        "    print(f\"\\n{GREEN}🔐🔒✨ Running Secure ECDH with Scalar Blinding...{RESET}\")\n",
        "    # (Insert your ECDH with blinding code here)\n",
        "    time.sleep(1)\n",
        "\n",
        "def run_ecdh_without_blinding():\n",
        "    print(f\"\\n{YELLOW}🔓🛡️  Running Standard ECDH without Blinding...{RESET}\")\n",
        "    # (Insert your ECDH without blinding code here)\n",
        "    time.sleep(1)\n",
        "\n",
        "def run_performance_dashboard():\n",
        "    print(f\"\\n{PINK}📊⏱️🚀 Generating Performance Dashboard...{RESET}\")\n",
        "    # (Insert your performance dashboard code here)\n",
        "    time.sleep(1)\n",
        "\n",
        "def run_mitm_simulation():\n",
        "    print(f\"\\n{RED}🕵️💻🔥 Launching MITM Attack Simulation...{RESET}\")\n",
        "    # (Insert your MITM attack simulation code here)\n",
        "    time.sleep(1)\n",
        "\n",
        "def main_menu():\n",
        "    while True:\n",
        "        print(ECDH_ASCII)\n",
        "        print(WELCOME)\n",
        "        print(MENU)\n",
        "        choice = input(\"Please enter your choice (1-5): \").strip()\n",
        "        if choice == \"1\":\n",
        "            run_full_demo()\n",
        "        elif choice == \"2\":\n",
        "            run_interactive_demo()\n",
        "        elif choice == \"3\":\n",
        "            # Plot Key Generation Time\n",
        "            plot_metric(0, \"Key Generation\")\n",
        "            # Plot Encryption Time\n",
        "            plot_metric(1, \"Encryption\")\n",
        "            # Plot Decryption Time\n",
        "            plot_metric(2, \"Decryption\")\n",
        "        elif choice == \"4\":\n",
        "            MITM_attack()\n",
        "        elif choice == \"5\":\n",
        "            print(f\"\\n{CYAN}🌈 Thanks for exploring ECDH! 👋 Goodbye!{RESET}\\n\")\n",
        "            print(FOOTER)\n",
        "            break\n",
        "        else:\n",
        "            print(f\"{RED}❗ Invalid choice. Please try again.{RESET}\\n\")\n",
        "        input(f\"{CYAN}🔽 Press Enter to continue...{RESET}\")\n",
        "\n",
        "main_menu()\n"
      ]
    }
  ],
  "metadata": {
    "colab": {
      "provenance": []
    },
    "kernelspec": {
      "display_name": "Python 3",
      "name": "python3"
    },
    "language_info": {
      "name": "python"
    }
  },
  "nbformat": 4,
  "nbformat_minor": 0
}